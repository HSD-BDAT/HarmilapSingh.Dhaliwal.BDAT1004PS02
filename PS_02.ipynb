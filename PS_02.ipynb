{
 "cells": [
  {
   "cell_type": "markdown",
   "id": "former-rotation",
   "metadata": {},
   "source": [
    "# Problem Set 2\n",
    "\n",
    "This problem set is based on lectures 4,5 and 6. For a complete list of topics please consult page 2 of the course syllabus. Please consult the “Instructions for Problem Set Submissions” document under course information before submitting your assignment."
   ]
  },
  {
   "cell_type": "markdown",
   "id": "potential-spank",
   "metadata": {},
   "source": [
    "## Question 1\n",
    "\n",
    "Consider the following Python module:\n",
    "\n",
    "```Python\n",
    "a = 0\n",
    "\n",
    "def b():\n",
    "    global a\n",
    "    a = c(a)\n",
    "\n",
    "def c(a):\n",
    "    return a + 2\n",
    "```\n",
    "After importing the module into the interpreter, you execute:\n",
    "```Python\n",
    ">>> b()\n",
    ">>> b()\n",
    ">>> b()\n",
    ">>> a\n",
    "?\n",
    "```\n",
    "\n",
    "What value is displayed when the last expression (a) is evaluated? Explain your answer by indicating what happens in every executed statement."
   ]
  },
  {
   "cell_type": "code",
   "execution_count": 34,
   "id": "fifth-holiday",
   "metadata": {},
   "outputs": [
    {
     "name": "stdout",
     "output_type": "stream",
     "text": [
      "0\n",
      "2\n",
      "4\n"
     ]
    },
    {
     "data": {
      "text/plain": [
       "6"
      ]
     },
     "execution_count": 34,
     "metadata": {},
     "output_type": "execute_result"
    }
   ],
   "source": [
    "a = 0\n",
    "\n",
    "###################\n",
    "def b():\n",
    "    global a\n",
    "    print(a)\n",
    "    a = c(a)\n",
    "    \n",
    "def c(a):\n",
    "    return a + 2\n",
    "\n",
    "###################\n",
    "b();b();b()\n",
    "a"
   ]
  },
  {
   "cell_type": "markdown",
   "id": "processed-cuisine",
   "metadata": {},
   "source": [
    "**By using `global` we are assigning variable 'a' as a variable with scope outside the function `b()`. So everytime `b()` runs 'a' gets updated as its scope is global now.**\n",
    "\n",
    "1. function b() is called, `global a` is run, it assigns Variable 'a' global namespace, essentially updating it globally instead of just in local environment of function `b()`. \n",
    "2. `a = c(a)` calls function `c(a)` and passes 'a' as argument to it. \n",
    "3. function `c(a)` returns `a + 2` which is assigned to Variable 'a' in function `b()`.\n",
    "4. So each call of function b() adds 2 to 'a'\n",
    "\n",
    "---"
   ]
  },
  {
   "cell_type": "markdown",
   "id": "blond-attribute",
   "metadata": {},
   "source": [
    "## Question 2\n",
    "\n",
    "Function fileLength(), given to you, takes the name of a file as input and returns the length of the file: \n",
    "```Python\n",
    ">>> fileLength('midterm.py') \n",
    "284 \n",
    ">>> fileLength('idterm.py') \n",
    "Traceback (most recent call last): File \"<pyshell#34>\", line 1, in <module> fileLength('idterm.py') File \"/Users/me/midterm.py\", line 3, in fileLength infile = open(filename) \n",
    "    FileNotFoundError: [Errno 2] No such file or directory: 'idterm.py'\n",
    "```\n",
    "\n",
    "As shown above, if the file cannot be found by the interpreter or if it cannot be read as a text file, an exception will be raised. Modify function `fileLength()` so that a friendly message is printed instead: \n",
    "```Python\n",
    ">>> fileLength('midterm.py') \n",
    "358 \n",
    ">>> fileLength('idterm.py') \n",
    "File idterm.py not found.\n",
    "```"
   ]
  },
  {
   "cell_type": "code",
   "execution_count": 37,
   "id": "cutting-worthy",
   "metadata": {},
   "outputs": [
    {
     "name": "stdout",
     "output_type": "stream",
     "text": [
      "File idterm.py not found\n"
     ]
    }
   ],
   "source": [
    "def fileLength(filename):\n",
    "    file = open(filename, 'r')                               # opened connection to read data from the file\n",
    "    file_Content = file.readlines()                          # read the contents\n",
    "    file.close()                                             # closed the connection to file\n",
    "    return(len(file_Content))\n",
    "\n",
    "filename = \"idterm.py\"    \n",
    "try:\n",
    "    fileLength(filename)\n",
    "except:\n",
    "    print(\"File {} not found\".format(filename))"
   ]
  },
  {
   "cell_type": "markdown",
   "id": "dying-least",
   "metadata": {},
   "source": [
    "---\n",
    "\n",
    "## Question 3\n",
    "\n",
    "Write a class named Marsupial that can be used as shown below: \n",
    "``` Python\n",
    "m = Marsupial()\n",
    "m.put_in_pouch('doll')\n",
    "m.put_in_pouch('firetruck')\n",
    "m.put_in_pouch('kitten')\n",
    "m.pouch_contents() \n",
    "['doll', 'firetruck', 'kitten']\n",
    "```\n",
    "\n",
    "Now write a class named `Kangaroo` as a subclass of `Marsupial` that inherits all the attributes of `Marsupial` and also:\n",
    "\n",
    "a. *extends* the `Marsupial __init__` constructor to take, as input, the coordinates x and y of the Kangaroo object,  \n",
    "b. *supports* method `jump` that takes number values dx and dy as input and moves the kangaroo by dx units along the x-axis and by dy units along the y-axis, and  \n",
    "c. *overloads* the `__str__` operator so it behaves as shown below.\n",
    "\n",
    "```Python\n",
    "k = Kangaroo(0,0)\n",
    "print(k) \n",
    "I am a Kangaroo located at coordinates (0,0)\n",
    "\n",
    "k.put_in_pouch('doll')\n",
    "k.put_in_pouch('firetruck')\n",
    "k.put_in_pouch('kitten')\n",
    "k.pouch_contents() \n",
    "['doll', 'firetruck', 'kitten']\n",
    "\n",
    "k.jump(1,0)\n",
    "k.jump(1,0)\n",
    "k.jump(1,0)\n",
    "print(k) \n",
    "I am a Kangaroo located at coordinates (3,0)\n",
    "```"
   ]
  },
  {
   "cell_type": "code",
   "execution_count": 40,
   "id": "scheduled-punishment",
   "metadata": {},
   "outputs": [],
   "source": [
    "class Marsupial:\n",
    "    \n",
    "    def __init__(self):\n",
    "        # initialise with empty list\n",
    "        self.l = []\n",
    "        \n",
    "    def put_in_pouch(self, item):\n",
    "        # add item to list\n",
    "        return(self.l.append(item))\n",
    "    \n",
    "    def pouch_contents(self):\n",
    "        # print list contents\n",
    "        print(self.l)\n",
    "        \n",
    "        \n",
    "class Kangaroo(Marsupial):\n",
    "    def __init__(self, x_coord = 0, y_coord = 0):\n",
    "        # extend Marsupial __init__ by adding xy coordinates\n",
    "        Marsupial.__init__(self)\n",
    "        self.x = x_coord\n",
    "        self.y = y_coord\n",
    "        \n",
    "    def jump(self, dx, dy):\n",
    "        # update coordinates\n",
    "        self.x += dx\n",
    "        self.y += dy\n",
    "        \n",
    "    def __str__(self):\n",
    "        'Pretty string representation Point(x, y)'\n",
    "        return('I am a Kangaroo located at coordinates ({}, {})'.format(self.x, self.y))"
   ]
  },
  {
   "cell_type": "code",
   "execution_count": 41,
   "id": "recovered-genesis",
   "metadata": {},
   "outputs": [
    {
     "name": "stdout",
     "output_type": "stream",
     "text": [
      "I am a Kangaroo located at coordinates (0, 0)\n",
      "['doll', 'firetruck', 'kitten']\n",
      "I am a Kangaroo located at coordinates (3, 0)\n"
     ]
    }
   ],
   "source": [
    "k = Kangaroo(0,0)\n",
    "print(k) \n",
    "\n",
    "k.put_in_pouch('doll')\n",
    "k.put_in_pouch('firetruck')\n",
    "k.put_in_pouch('kitten')\n",
    "k.pouch_contents() \n",
    "\n",
    "k.jump(1,0)\n",
    "k.jump(1,0)\n",
    "k.jump(1,0)\n",
    "print(k) "
   ]
  },
  {
   "cell_type": "markdown",
   "id": "identical-settle",
   "metadata": {},
   "source": [
    "---\n",
    "\n",
    "## Question 4\n",
    "\n",
    "Write function `collatz()` that takes a positive integer x as input and prints the `Collatz` sequence starting at x. A Collatz sequence is obtained by repeatedly applying this rule to the previous number x in the sequence:\n",
    "\n",
    "\\begin{equation*}\n",
    "\\text{x} =\n",
    "\\begin{cases}\n",
    "~ \\frac{x}{2} & \\text{if x is even}\\\\\n",
    "~ 3x + 1 & \\text{if x is odd}\n",
    "\\end{cases}\n",
    "\\end{equation*}\n",
    "    \n",
    "Your function should stop when the sequence gets to number 1. Your implementation must be recursive, without any loops.\n",
    "\n",
    "``` Python\n",
    "collatz(1)\n",
    "1\n",
    "collatz(10)\n",
    "10\n",
    "5\n",
    "16\n",
    "8\n",
    "4\n",
    "2\n",
    "1\n",
    "```"
   ]
  },
  {
   "cell_type": "code",
   "execution_count": 42,
   "id": "coupled-search",
   "metadata": {},
   "outputs": [
    {
     "name": "stdout",
     "output_type": "stream",
     "text": [
      "10\n",
      "5\n",
      "16\n",
      "8\n",
      "4\n",
      "2\n",
      "1\n"
     ]
    }
   ],
   "source": [
    "def collatz(x):\n",
    "    print(int(x))\n",
    "    \n",
    "    if(x == 1):\n",
    "        return(None)\n",
    "    else:\n",
    "        if(x % 2 == 0):\n",
    "            # even\n",
    "            x /= 2\n",
    "            collatz(x) \n",
    "        else:\n",
    "            # odd\n",
    "            x = 3*x + 1\n",
    "            collatz(x)\n",
    "            \n",
    "collatz(10)            "
   ]
  },
  {
   "cell_type": "markdown",
   "id": "advanced-spring",
   "metadata": {},
   "source": [
    "---\n",
    "\n",
    "## Question 5\n",
    "\n",
    "Write a recursive method `binary()` that takes a non-negative integer n and prints the binary representation of integer n. \n",
    "``` Python\n",
    "binary(0) \n",
    "0\n",
    "\n",
    "binary(1) \n",
    "1\n",
    "\n",
    "binary(3) \n",
    "11\n",
    "\n",
    "binary(9) \n",
    "1001\n",
    "```"
   ]
  },
  {
   "cell_type": "code",
   "execution_count": 7,
   "id": "legendary-slide",
   "metadata": {},
   "outputs": [
    {
     "name": "stdout",
     "output_type": "stream",
     "text": [
      "1011"
     ]
    }
   ],
   "source": [
    "def getbinary(number):\n",
    "   \n",
    "    # Base case\n",
    "    if(number == 0):\n",
    "        return(0)\n",
    "       \n",
    "    # Recursion call\n",
    "    getbinary(number // 2)\n",
    "    print(number % 2, end = '')\n",
    "\n",
    "    \n",
    "decimal_number = 11\n",
    "getbinary(decimal_number)"
   ]
  },
  {
   "cell_type": "code",
   "execution_count": 9,
   "id": "upset-prediction",
   "metadata": {},
   "outputs": [
    {
     "data": {
      "text/plain": [
       "110"
      ]
     },
     "execution_count": 9,
     "metadata": {},
     "output_type": "execute_result"
    }
   ],
   "source": [
    "def getbinary(number):\n",
    "   \n",
    "    # Base case\n",
    "    if(number == 0):\n",
    "        return(0)\n",
    "    #print(number)   \n",
    "     # Recursion call and storing the result\n",
    "    smallans = getbinary(number//2)\n",
    "    return((number % 2) + (10 * smallans)) \n",
    "\n",
    "getbinary(6)    "
   ]
  },
  {
   "cell_type": "markdown",
   "id": "persistent-massage",
   "metadata": {},
   "source": [
    "---\n",
    "\n",
    "## Question 6\n",
    "\n",
    "Implement a class named `HeadingParser` that can be used to parse an HTML document, and retrieve and print all the headings in the document. You should implement your class as a subclass of `HTMLParser`, defined in Standard Library module `html.parser`. When fed a string containing HTML code, your class should print the headings, one per line and in the order in which they appear in the document. Each heading should be indented as follows: an h1 heading should have indentation 0, and h2 heading should have indentation 1, etc. Test your implementation using w3c.html."
   ]
  },
  {
   "cell_type": "code",
   "execution_count": 3,
   "id": "acceptable-river",
   "metadata": {},
   "outputs": [],
   "source": [
    "from html.parser import HTMLParser\n",
    "\n",
    "class HeadingParser(HTMLParser):\t\t        #create a subclass of HTMLParser which will overload handle..\n",
    "    Heading = False\n",
    "    t = \"\"\n",
    "    def handle_starttag(self, tag, attrs):\t\t#Triggered when an opening tag is encountered\n",
    "        if tag in [\"h1\", \"h2\", \"h3\"]:\n",
    "            self.Heading = True\n",
    "            self.t = tag\n",
    "            \n",
    "    def handle_endtag(self, tag):\t\t\t\t#Handle end of a tag\n",
    "        if tag in [\"h1\", \"h2\", \"h3\"]:\t\t\t#Here if it is h1 put back \"inHeading\" to False\n",
    "            self.Heading = False\n",
    "    \n",
    "    def handle_data(self, data):\t\t\t\t#Triggered when data found (the content of the tag)\n",
    "        if(self.Heading == True):\n",
    "            if(self.t == 'h1'):\n",
    "                print(data)\n",
    "            if(self.t == 'h2'):\n",
    "                print('\\t' + data)\n",
    "            if(self.t == 'h3'):\n",
    "                print('\\t'*2 + data)"
   ]
  },
  {
   "cell_type": "code",
   "execution_count": 4,
   "id": "adopted-google",
   "metadata": {},
   "outputs": [
    {
     "name": "stdout",
     "output_type": "stream",
     "text": [
      "W3C Mission\n",
      "\tPrinciples\n"
     ]
    }
   ],
   "source": [
    "hParser = HeadingParser()\n",
    "file = open(\"W3C.html\", \"r\")\t\t\t#Open the file\n",
    "html = file.read()\t\t\t\t\t\t#Read entirely the file\n",
    "file.close()\t\t\t\t\t\t    #Close the file\n",
    "hParser.feed(html)\t"
   ]
  },
  {
   "cell_type": "markdown",
   "id": "individual-roberts",
   "metadata": {},
   "source": [
    "---\n",
    "\n",
    "## Question 7 \n",
    "\n",
    "Implement recursive function `webdir()` that takes as input: a URL (as a string) and non-negative integers `depth` and `indent`. Your function should visit every web page reachable from the starting URL web page in `depth` clicks or less, and print each web page's URL. As shown below, indentation, specified by `indent`, should be used to indicate the depth of a URL.\n",
    "\n",
    "webdir('http://reed.cs.depaul.edu/lperkovic/csc242/test1.html', 2, 0) "
   ]
  },
  {
   "cell_type": "code",
   "execution_count": 13,
   "id": "breeding-delivery",
   "metadata": {},
   "outputs": [],
   "source": [
    "from urllib.parse import urljoin\n",
    "from urllib.request import urlopen\n",
    "from html.parser import HTMLParser\n",
    "\n",
    "class Collector(HTMLParser):\n",
    "    'collects hyperlink URLs into a list'\n",
    "\n",
    "    def __init__(self, url):\n",
    "        'initializes parser, the url, and a list'\n",
    "        HTMLParser.__init__(self)\n",
    "        self.url = url\n",
    "        self.links = []\n",
    "\n",
    "    def handle_starttag(self, tag, attrs):\n",
    "        'collects hyperlink URLs in their absolute format'\n",
    "        if tag == 'a':\n",
    "            for attr in attrs:\n",
    "                if attr[0] == 'href':\n",
    "                    # construct absolute URL\n",
    "                    absolute = urljoin(self.url, attr[1])\n",
    "                    if absolute[:4] == 'http': # collect HTTP URLs\n",
    "                        self.links.append(absolute)\n",
    "                        \n",
    "    def getLinks(self):\n",
    "        'returns hyperlinks URLs in their absolute format'\n",
    "        return self.links"
   ]
  },
  {
   "cell_type": "code",
   "execution_count": 14,
   "id": "coupled-guyana",
   "metadata": {},
   "outputs": [
    {
     "data": {
      "text/plain": [
       "['http://www.w3.org/',\n",
       " 'http://www.w3.org/standards/',\n",
       " 'http://www.w3.org/participate/',\n",
       " 'http://www.w3.org/Consortium/membership',\n",
       " 'http://www.w3.org/Consortium/',\n",
       " 'http://www.w3.org/Consortium/',\n",
       " 'http://www.w3.org/Consortium/facts.html',\n",
       " 'http://www.w3.org/Consortium/presskit.html',\n",
       " 'http://www.w3.org/Consortium/sponsor/',\n",
       " 'http://www.w3.org/Consortium/Recruitment/',\n",
       " 'http://www.w3.org/Consortium/contact.html',\n",
       " 'http://www.w3.org/Help/',\n",
       " 'http://www.w3.org/Consortium/mission.html#w3c_content_body',\n",
       " 'http://www.w3.org/',\n",
       " 'http://www.w3.org/Consortium/',\n",
       " 'http://www.w3.org/Consortium/mission.html#openstand',\n",
       " 'http://www.w3.org/Consortium/mission.html#principles',\n",
       " 'http://www.w3.org/Consortium/mission.html#vision',\n",
       " 'http://open-stand.org/principles/',\n",
       " 'http://open-stand.org/',\n",
       " 'http://www.w3.org/WAI/',\n",
       " 'http://www.w3.org/International/',\n",
       " 'http://www.w3.org/standards/webofdevices/',\n",
       " 'http://www.w3.org/Mobile/',\n",
       " 'http://www.w3.org/standards/agents/Overview.html',\n",
       " 'http://www.w3.org/standards/webdesign/',\n",
       " 'http://www.w3.org/standards/webarch/',\n",
       " 'http://www.w3.org/standards/xml/',\n",
       " 'http://www.w3.org/standards/semanticweb/',\n",
       " 'http://www.w3.org/standards/webofservices/',\n",
       " 'http://www.w3.org/standards/semanticweb/',\n",
       " 'http://www.w3.org/standards/xml/security',\n",
       " 'http://www.w3.org/standards/webofservices/security',\n",
       " 'http://www.w3.org/standards/webdesign/privacy',\n",
       " 'http://www.w3.org/',\n",
       " 'http://www.w3.org/standards/',\n",
       " 'http://www.w3.org/participate/',\n",
       " 'http://www.w3.org/Consortium/membership',\n",
       " 'http://www.w3.org/Consortium/',\n",
       " 'http://www.w3.org/Consortium/contact',\n",
       " 'http://www.w3.org/Help/',\n",
       " 'http://www.w3.org/Consortium/sup',\n",
       " 'http://www.w3.org/Consortium/siteindex',\n",
       " 'http://lists.w3.org/Archives/Public/site-comments/',\n",
       " 'http://twitter.com/W3C',\n",
       " 'http://www.csail.mit.edu/',\n",
       " 'http://www.ercim.org/',\n",
       " 'http://www.keio.ac.jp/',\n",
       " 'http://ev.buaa.edu.cn/',\n",
       " 'http://www.w3.org/Consortium/Legal/ipr-notice']"
      ]
     },
     "execution_count": 14,
     "metadata": {},
     "output_type": "execute_result"
    }
   ],
   "source": [
    "url = 'http://www.w3.org/Consortium/mission.html'\n",
    "resource = urlopen(url)\n",
    "content = resource.read().decode()\n",
    "collector = Collector(url)\n",
    "collector.feed(content)\n",
    "collector.getLinks()"
   ]
  },
  {
   "cell_type": "markdown",
   "id": "democratic-collectible",
   "metadata": {},
   "source": [
    "---\n",
    "\n",
    "## Question 8\n",
    "\n",
    "Write SQL queries on the below database table that return:"
   ]
  },
  {
   "cell_type": "code",
   "execution_count": 23,
   "id": "interior-exclusion",
   "metadata": {},
   "outputs": [],
   "source": [
    "import sqlite3\n",
    "con = sqlite3.connect('web.db')\n",
    "cur = con.cursor()"
   ]
  },
  {
   "cell_type": "code",
   "execution_count": 24,
   "id": "naked-challenge",
   "metadata": {},
   "outputs": [],
   "source": [
    "cur.execute(\"CREATE TABLE Weather (City text, Country text, Season text, Temperature float, Rainfall float)\")\n",
    "cur.execute(\"INSERT INTO Weather VALUES ('Mumbai', 'India', 'Winter', 24.8, 5.9)\")\n",
    "cur.execute(\"INSERT INTO Weather VALUES ('Mumbai', 'India', 'Spring', 28.4, 16.2)\")\n",
    "cur.execute(\"INSERT INTO Weather VALUES ('Mumbai', 'India', 'Summer', 27.9, 1549.4)\")\n",
    "cur.execute(\"INSERT INTO Weather VALUES ('Mumbai', 'India', 'Fall', 27.6, 346.0)\")\n",
    "cur.execute(\"INSERT INTO Weather VALUES ('London', 'United Kingdom', 'Winter', 4.2, 207.7)\")\n",
    "cur.execute(\"INSERT INTO Weather VALUES ('London', 'United Kingdom', 'Spring', 8.3, 169.6)\")\n",
    "cur.execute(\"INSERT INTO Weather VALUES ('London', 'United Kingdom', 'Summer', 15.7, 157.0)\")\n",
    "cur.execute(\"INSERT INTO Weather VALUES ('London', 'United Kingdom', 'Fall', 10.4, 218.5)\")\n",
    "cur.execute(\"INSERT INTO Weather VALUES ('Cairo', 'Egypt', 'Winter', 13.6, 16.5)\")\n",
    "cur.execute(\"INSERT INTO Weather VALUES ('Cairo', 'Egypt', 'Spring', 20.7, 6.5)\")\n",
    "cur.execute(\"INSERT INTO Weather VALUES ('Cairo', 'Egypt', 'Summer', 27.7, 0.1)\")\n",
    "cur.execute(\"INSERT INTO Weather VALUES ('Cairo', 'Egypt', 'Fall', 22.2, 4.5)\")\n",
    "\n",
    "con.commit()"
   ]
  },
  {
   "cell_type": "markdown",
   "id": "changed-courtesy",
   "metadata": {},
   "source": [
    "### (a) All the temperature data"
   ]
  },
  {
   "cell_type": "code",
   "execution_count": 25,
   "id": "dutch-steam",
   "metadata": {},
   "outputs": [
    {
     "data": {
      "text/plain": [
       "[(24.8,),\n",
       " (28.4,),\n",
       " (27.9,),\n",
       " (27.6,),\n",
       " (4.2,),\n",
       " (8.3,),\n",
       " (15.7,),\n",
       " (10.4,),\n",
       " (13.6,),\n",
       " (20.7,),\n",
       " (27.7,),\n",
       " (22.2,)]"
      ]
     },
     "execution_count": 25,
     "metadata": {},
     "output_type": "execute_result"
    }
   ],
   "source": [
    "cur.execute(\"select Temperature from Weather\")\n",
    "cur.fetchall()"
   ]
  },
  {
   "cell_type": "markdown",
   "id": "abstract-shield",
   "metadata": {},
   "source": [
    "### (b) All the cities, but without repetition."
   ]
  },
  {
   "cell_type": "code",
   "execution_count": 26,
   "id": "hundred-landing",
   "metadata": {},
   "outputs": [
    {
     "data": {
      "text/plain": [
       "[('Mumbai',), ('London',), ('Cairo',)]"
      ]
     },
     "execution_count": 26,
     "metadata": {},
     "output_type": "execute_result"
    }
   ],
   "source": [
    "cur.execute(\"select Distinct(City) from Weather\")\n",
    "cur.fetchall()"
   ]
  },
  {
   "cell_type": "markdown",
   "id": "recent-dominant",
   "metadata": {},
   "source": [
    "### (c) All the records for India."
   ]
  },
  {
   "cell_type": "code",
   "execution_count": 27,
   "id": "banner-emperor",
   "metadata": {},
   "outputs": [
    {
     "data": {
      "text/plain": [
       "[('Mumbai', 'India', 'Winter', 24.8, 5.9),\n",
       " ('Mumbai', 'India', 'Spring', 28.4, 16.2),\n",
       " ('Mumbai', 'India', 'Summer', 27.9, 1549.4),\n",
       " ('Mumbai', 'India', 'Fall', 27.6, 346.0)]"
      ]
     },
     "execution_count": 27,
     "metadata": {},
     "output_type": "execute_result"
    }
   ],
   "source": [
    "cur.execute(\"select * from Weather where Country = 'India'\")\n",
    "cur.fetchall()"
   ]
  },
  {
   "cell_type": "markdown",
   "id": "blank-theorem",
   "metadata": {},
   "source": [
    "### (d) All the Fall records."
   ]
  },
  {
   "cell_type": "code",
   "execution_count": 28,
   "id": "stone-student",
   "metadata": {},
   "outputs": [
    {
     "data": {
      "text/plain": [
       "[('Mumbai', 'India', 'Fall', 27.6, 346.0),\n",
       " ('London', 'United Kingdom', 'Fall', 10.4, 218.5),\n",
       " ('Cairo', 'Egypt', 'Fall', 22.2, 4.5)]"
      ]
     },
     "execution_count": 28,
     "metadata": {},
     "output_type": "execute_result"
    }
   ],
   "source": [
    "cur.execute(\"select * from Weather where Season = 'Fall'\")\n",
    "cur.fetchall()"
   ]
  },
  {
   "cell_type": "markdown",
   "id": "reduced-chorus",
   "metadata": {},
   "source": [
    "### (e) The city, country, and season for which the average rainfall is between 200 and 400 millimeters."
   ]
  },
  {
   "cell_type": "code",
   "execution_count": 29,
   "id": "passive-overhead",
   "metadata": {},
   "outputs": [
    {
     "data": {
      "text/plain": [
       "[('Mumbai', 'India', 'Fall', 346.0),\n",
       " ('London', 'United Kingdom', 'Winter', 207.7),\n",
       " ('London', 'United Kingdom', 'Fall', 218.5)]"
      ]
     },
     "execution_count": 29,
     "metadata": {},
     "output_type": "execute_result"
    }
   ],
   "source": [
    "cur.execute(\"select City, Country, Season, Rainfall from Weather where Rainfall >= 200 and Rainfall <= 400\")\n",
    "cur.fetchall()"
   ]
  },
  {
   "cell_type": "markdown",
   "id": "negative-vatican",
   "metadata": {},
   "source": [
    "### (f) The city and country for which the average Fall temperature is above 20 degrees, in increasing temperature order."
   ]
  },
  {
   "cell_type": "code",
   "execution_count": 7,
   "id": "controlled-think",
   "metadata": {},
   "outputs": [
    {
     "data": {
      "text/plain": [
       "[('Cairo', 'Egypt', 22.2), ('Mumbai', 'India', 27.6)]"
      ]
     },
     "execution_count": 7,
     "metadata": {},
     "output_type": "execute_result"
    }
   ],
   "source": [
    "cur.execute(\"select City, Country, Temperature from Weather where Season = 'Fall' and Temperature > 20 order by Temperature\")\n",
    "cur.fetchall()"
   ]
  },
  {
   "cell_type": "markdown",
   "id": "consistent-parcel",
   "metadata": {},
   "source": [
    "### (g) The total annual rainfall for Cairo."
   ]
  },
  {
   "cell_type": "code",
   "execution_count": 8,
   "id": "effective-imperial",
   "metadata": {},
   "outputs": [
    {
     "data": {
      "text/plain": [
       "[('Cairo', 27.6)]"
      ]
     },
     "execution_count": 8,
     "metadata": {},
     "output_type": "execute_result"
    }
   ],
   "source": [
    "cur.execute(\"select City,sum(Rainfall) from Weather where City = 'Cairo'\")\n",
    "cur.fetchall()"
   ]
  },
  {
   "cell_type": "markdown",
   "id": "patient-highlight",
   "metadata": {},
   "source": [
    "### (h) The total rainfall for each season."
   ]
  },
  {
   "cell_type": "code",
   "execution_count": 32,
   "id": "quarterly-thanks",
   "metadata": {},
   "outputs": [
    {
     "ename": "ProgrammingError",
     "evalue": "Cannot operate on a closed database.",
     "output_type": "error",
     "traceback": [
      "\u001b[1;31m---------------------------------------------------------------------------\u001b[0m",
      "\u001b[1;31mProgrammingError\u001b[0m                          Traceback (most recent call last)",
      "\u001b[1;32m<ipython-input-32-297ba081ad97>\u001b[0m in \u001b[0;36m<module>\u001b[1;34m\u001b[0m\n\u001b[1;32m----> 1\u001b[1;33m \u001b[0mcur\u001b[0m\u001b[1;33m.\u001b[0m\u001b[0mexecute\u001b[0m\u001b[1;33m(\u001b[0m\u001b[1;34m\"select Season,Round(sum(Rainfall),1) from Weather group by Season\"\u001b[0m\u001b[1;33m)\u001b[0m\u001b[1;33m\u001b[0m\u001b[1;33m\u001b[0m\u001b[0m\n\u001b[0m\u001b[0;32m      2\u001b[0m \u001b[0mcur\u001b[0m\u001b[1;33m.\u001b[0m\u001b[0mfetchall\u001b[0m\u001b[1;33m(\u001b[0m\u001b[1;33m)\u001b[0m\u001b[1;33m\u001b[0m\u001b[1;33m\u001b[0m\u001b[0m\n",
      "\u001b[1;31mProgrammingError\u001b[0m: Cannot operate on a closed database."
     ]
    }
   ],
   "source": [
    "cur.execute(\"select Season,Round(sum(Rainfall),1) from Weather group by Season\")\n",
    "cur.fetchall()"
   ]
  },
  {
   "cell_type": "code",
   "execution_count": 33,
   "id": "previous-absence",
   "metadata": {},
   "outputs": [],
   "source": [
    "con.close()"
   ]
  },
  {
   "cell_type": "markdown",
   "id": "neutral-defensive",
   "metadata": {},
   "source": [
    "---\n",
    "\n",
    "## Question 9\n",
    "\n",
    "Suppose list words is defined as follows:\n",
    "\n",
    "``` Python\n",
    "words = ['The', 'quick', 'brown', 'fox', 'jumps', 'over', 'the', 'lazy', 'dog']\n",
    "```"
   ]
  },
  {
   "cell_type": "code",
   "execution_count": 15,
   "id": "color-angle",
   "metadata": {},
   "outputs": [
    {
     "data": {
      "text/plain": [
       "['The', 'quick', 'brown', 'fox', 'jumps', 'over', 'the', 'lazy', 'dog']"
      ]
     },
     "execution_count": 15,
     "metadata": {},
     "output_type": "execute_result"
    }
   ],
   "source": [
    "words = ['The', 'quick', 'brown', 'fox', 'jumps', 'over', 'the', 'lazy', 'dog']\n",
    "words"
   ]
  },
  {
   "cell_type": "markdown",
   "id": "nutritional-firewall",
   "metadata": {},
   "source": [
    "### Write list comprehension expressions that use list words and generate the following lists:\n",
    "\n",
    "**(a) ['THE', 'QUICK', 'BROWN', 'FOX', 'JUMPS', 'OVER', 'THE', 'LAZY', 'DOG']**"
   ]
  },
  {
   "cell_type": "code",
   "execution_count": 16,
   "id": "convinced-bacon",
   "metadata": {},
   "outputs": [
    {
     "data": {
      "text/plain": [
       "['THE', 'QUICK', 'BROWN', 'FOX', 'JUMPS', 'OVER', 'THE', 'LAZY', 'DOG']"
      ]
     },
     "execution_count": 16,
     "metadata": {},
     "output_type": "execute_result"
    }
   ],
   "source": [
    "[w.upper() for w in words]"
   ]
  },
  {
   "cell_type": "markdown",
   "id": "simple-destiny",
   "metadata": {},
   "source": [
    "**(b) ['the', 'quick', 'brown', 'fox', 'jumps', 'over', 'the', 'lazy', 'dog']** "
   ]
  },
  {
   "cell_type": "code",
   "execution_count": 17,
   "id": "forced-dublin",
   "metadata": {},
   "outputs": [
    {
     "data": {
      "text/plain": [
       "['the', 'quick', 'brown', 'fox', 'jumps', 'over', 'the', 'lazy', 'dog']"
      ]
     },
     "execution_count": 17,
     "metadata": {},
     "output_type": "execute_result"
    }
   ],
   "source": [
    "[w.lower() for w in words]"
   ]
  },
  {
   "cell_type": "markdown",
   "id": "studied-hammer",
   "metadata": {},
   "source": [
    "**(c) [3, 5, 5, 3, 5, 4, 3, 4, 3] (the list of lengths of words in list words).**"
   ]
  },
  {
   "cell_type": "code",
   "execution_count": 18,
   "id": "basic-psychology",
   "metadata": {},
   "outputs": [
    {
     "data": {
      "text/plain": [
       "[3, 5, 5, 3, 5, 4, 3, 4, 3]"
      ]
     },
     "execution_count": 18,
     "metadata": {},
     "output_type": "execute_result"
    }
   ],
   "source": [
    "[len(w) for w in words]"
   ]
  },
  {
   "cell_type": "markdown",
   "id": "controlling-struggle",
   "metadata": {},
   "source": [
    "**(d) [['THE', 'the', 3], ['QUICK', 'quick', 5], ['BROWN', 'brown', 5], ['FOX', 'fox', 3], ['JUMPS', 'jumps', 5], ['OVER', 'over', 4], ['THE', 'the', 3], ['LAZY', 'lazy', 4], ['DOG', 'dog', 3]] (the list containing a list for every word of list words, where each list contains the word in uppercase and lowercase and the length of the word.)**  "
   ]
  },
  {
   "cell_type": "code",
   "execution_count": 19,
   "id": "nonprofit-worthy",
   "metadata": {},
   "outputs": [
    {
     "data": {
      "text/plain": [
       "[['THE', 'the', 3],\n",
       " ['QUICK', 'quick', 5],\n",
       " ['BROWN', 'brown', 5],\n",
       " ['FOX', 'fox', 3],\n",
       " ['JUMPS', 'jumps', 5],\n",
       " ['OVER', 'over', 4],\n",
       " ['THE', 'the', 3],\n",
       " ['LAZY', 'lazy', 4],\n",
       " ['DOG', 'dog', 3]]"
      ]
     },
     "execution_count": 19,
     "metadata": {},
     "output_type": "execute_result"
    }
   ],
   "source": [
    "[[w.upper(), w.lower(), len(w)] for w in words]"
   ]
  },
  {
   "cell_type": "markdown",
   "id": "stopped-single",
   "metadata": {},
   "source": [
    "**(e) ['The', 'quick', 'brown', 'fox', 'jumps', 'over', 'the', 'lazy', 'dog'] (the list of words in list words containing 4 or more characters.)**"
   ]
  },
  {
   "cell_type": "code",
   "execution_count": 20,
   "id": "short-membrane",
   "metadata": {},
   "outputs": [
    {
     "data": {
      "text/plain": [
       "['quick', 'brown', 'jumps', 'over', 'lazy']"
      ]
     },
     "execution_count": 20,
     "metadata": {},
     "output_type": "execute_result"
    }
   ],
   "source": [
    "[w for w in words if len(w) >= 4]"
   ]
  }
 ],
 "metadata": {
  "kernelspec": {
   "display_name": "Python 3",
   "language": "python",
   "name": "python3"
  },
  "language_info": {
   "codemirror_mode": {
    "name": "ipython",
    "version": 3
   },
   "file_extension": ".py",
   "mimetype": "text/x-python",
   "name": "python",
   "nbconvert_exporter": "python",
   "pygments_lexer": "ipython3",
   "version": "3.8.5"
  }
 },
 "nbformat": 4,
 "nbformat_minor": 5
}

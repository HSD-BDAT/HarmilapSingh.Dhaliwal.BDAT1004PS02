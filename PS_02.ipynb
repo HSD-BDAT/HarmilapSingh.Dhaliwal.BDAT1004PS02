{
 "cells": [
  {
   "cell_type": "markdown",
   "id": "incoming-headline",
   "metadata": {},
   "source": [
    "# Problem Set 2\n",
    "\n",
    "This problem set is based on lectures 4,5 and 6. For a complete list of topics please consult page 2 of the course syllabus. Please consult the “Instructions for Problem Set Submissions” document under course information before submitting your assignment."
   ]
  },
  {
   "cell_type": "markdown",
   "id": "compound-information",
   "metadata": {},
   "source": [
    "## Question 1\n",
    "\n",
    "Consider the following Python module:\n",
    "\n",
    "```Python\n",
    "a = 0\n",
    "\n",
    "def b():\n",
    "    global a\n",
    "    a = c(a)\n",
    "\n",
    "def c(a):\n",
    "    return a + 2\n",
    "```\n",
    "After importing the module into the interpreter, you execute:\n",
    "```Python\n",
    ">>> b()\n",
    ">>> b()\n",
    ">>> b()\n",
    ">>> a\n",
    "?\n",
    "```\n",
    "\n",
    "What value is displayed when the last expression (a) is evaluated? Explain your answer by indicating what happens in every executed statement."
   ]
  },
  {
   "cell_type": "code",
   "execution_count": 1,
   "id": "casual-allergy",
   "metadata": {},
   "outputs": [
    {
     "name": "stdout",
     "output_type": "stream",
     "text": [
      "0\n",
      "2\n",
      "4\n"
     ]
    },
    {
     "data": {
      "text/plain": [
       "6"
      ]
     },
     "execution_count": 1,
     "metadata": {},
     "output_type": "execute_result"
    }
   ],
   "source": [
    "a = 0\n",
    "\n",
    "###################\n",
    "def b():\n",
    "    global a\n",
    "    print(a)\n",
    "    a = c(a)\n",
    "    \n",
    "def c(a):\n",
    "    return a + 2\n",
    "\n",
    "###################\n",
    "b();b();b()\n",
    "a"
   ]
  },
  {
   "cell_type": "markdown",
   "id": "removable-construction",
   "metadata": {},
   "source": [
    "**By using `global` we are assigning variable 'a' as a variable with scope outside the function `b()`. So everytime `b()` runs 'a' gets updated as its scope is global now.**\n",
    "\n",
    "1. function b() is called, `global a` is run, it assigns Variable 'a' global namespace, essentially updating it globally instead of just in local environment of function `b()`. \n",
    "2. `a = c(a)` calls function `c(a)` and passes 'a' as argument to it. \n",
    "3. function `c(a)` returns `a + 2` which is assigned to Variable 'a' in function `b()`.\n",
    "4. So each call of function b() adds 2 to 'a'\n",
    "\n",
    "---"
   ]
  },
  {
   "cell_type": "markdown",
   "id": "determined-fields",
   "metadata": {},
   "source": [
    "## Question 2\n",
    "\n",
    "Function fileLength(), given to you, takes the name of a file as input and returns the length of the file: \n",
    "```Python\n",
    ">>> fileLength('midterm.py') \n",
    "284 \n",
    ">>> fileLength('idterm.py') \n",
    "Traceback (most recent call last): File \"<pyshell#34>\", line 1, in <module> fileLength('idterm.py') File \"/Users/me/midterm.py\", line 3, in fileLength infile = open(filename) \n",
    "    FileNotFoundError: [Errno 2] No such file or directory: 'idterm.py'\n",
    "```\n",
    "\n",
    "As shown above, if the file cannot be found by the interpreter or if it cannot be read as a text file, an exception will be raised. Modify function `fileLength()` so that a friendly message is printed instead: \n",
    "```Python\n",
    ">>> fileLength('midterm.py') \n",
    "358 \n",
    ">>> fileLength('idterm.py') \n",
    "File idterm.py not found.\n",
    "```"
   ]
  },
  {
   "cell_type": "code",
   "execution_count": 2,
   "id": "dressed-material",
   "metadata": {},
   "outputs": [
    {
     "name": "stdout",
     "output_type": "stream",
     "text": [
      "File idterm.py not found\n"
     ]
    }
   ],
   "source": [
    "def fileLength(filename):\n",
    "    file = open(filename, 'r')                               # opened connection to read data from the file\n",
    "    file_Content = file.readlines()                          # read the contents\n",
    "    file.close()                                             # closed the connection to file\n",
    "    return(len(file_Content))\n",
    "\n",
    "filename = \"idterm.py\"    \n",
    "try:\n",
    "    fileLength(filename)\n",
    "except:\n",
    "    print(\"File {} not found\".format(filename))"
   ]
  },
  {
   "cell_type": "markdown",
   "id": "devoted-possible",
   "metadata": {},
   "source": [
    "---\n",
    "\n",
    "## Question 3\n",
    "\n",
    "Write a class named Marsupial that can be used as shown below: \n",
    "``` Python\n",
    "m = Marsupial()\n",
    "m.put_in_pouch('doll')\n",
    "m.put_in_pouch('firetruck')\n",
    "m.put_in_pouch('kitten')\n",
    "m.pouch_contents() \n",
    "['doll', 'firetruck', 'kitten']\n",
    "```\n",
    "\n",
    "Now write a class named `Kangaroo` as a subclass of `Marsupial` that inherits all the attributes of `Marsupial` and also:\n",
    "\n",
    "a. *extends* the `Marsupial __init__` constructor to take, as input, the coordinates x and y of the Kangaroo object,  \n",
    "b. *supports* method `jump` that takes number values dx and dy as input and moves the kangaroo by dx units along the x-axis and by dy units along the y-axis, and  \n",
    "c. *overloads* the `__str__` operator so it behaves as shown below.\n",
    "\n",
    "```Python\n",
    "k = Kangaroo(0,0)\n",
    "print(k) \n",
    "I am a Kangaroo located at coordinates (0,0)\n",
    "\n",
    "k.put_in_pouch('doll')\n",
    "k.put_in_pouch('firetruck')\n",
    "k.put_in_pouch('kitten')\n",
    "k.pouch_contents() \n",
    "['doll', 'firetruck', 'kitten']\n",
    "\n",
    "k.jump(1,0)\n",
    "k.jump(1,0)\n",
    "k.jump(1,0)\n",
    "print(k) \n",
    "I am a Kangaroo located at coordinates (3,0)\n",
    "```"
   ]
  },
  {
   "cell_type": "code",
   "execution_count": 3,
   "id": "little-handling",
   "metadata": {},
   "outputs": [],
   "source": [
    "class Marsupial:\n",
    "    \n",
    "    def __init__(self):\n",
    "        # initialise with empty list\n",
    "        self.l = []\n",
    "        \n",
    "    def put_in_pouch(self, item):\n",
    "        # add item to list\n",
    "        return(self.l.append(item))\n",
    "    \n",
    "    def pouch_contents(self):\n",
    "        # print list contents\n",
    "        print(self.l)\n",
    "        \n",
    "        \n",
    "class Kangaroo(Marsupial):\n",
    "    def __init__(self, x_coord = 0, y_coord = 0):\n",
    "        # extend Marsupial __init__ by adding xy coordinates\n",
    "        Marsupial.__init__(self)\n",
    "        self.x = x_coord\n",
    "        self.y = y_coord\n",
    "        \n",
    "    def jump(self, dx, dy):\n",
    "        # update coordinates\n",
    "        self.x += dx\n",
    "        self.y += dy\n",
    "        \n",
    "    def __str__(self):\n",
    "        'Pretty string representation Point(x, y)'\n",
    "        return('I am a Kangaroo located at coordinates ({}, {})'.format(self.x, self.y))"
   ]
  },
  {
   "cell_type": "code",
   "execution_count": 4,
   "id": "romantic-bailey",
   "metadata": {},
   "outputs": [
    {
     "name": "stdout",
     "output_type": "stream",
     "text": [
      "I am a Kangaroo located at coordinates (0, 0)\n",
      "['doll', 'firetruck', 'kitten']\n",
      "I am a Kangaroo located at coordinates (3, 0)\n"
     ]
    }
   ],
   "source": [
    "k = Kangaroo(0,0)\n",
    "print(k) \n",
    "\n",
    "k.put_in_pouch('doll')\n",
    "k.put_in_pouch('firetruck')\n",
    "k.put_in_pouch('kitten')\n",
    "k.pouch_contents() \n",
    "\n",
    "k.jump(1,0)\n",
    "k.jump(1,0)\n",
    "k.jump(1,0)\n",
    "print(k) "
   ]
  },
  {
   "cell_type": "markdown",
   "id": "intense-strengthening",
   "metadata": {},
   "source": [
    "---\n",
    "\n",
    "## Question 4\n",
    "\n",
    "Write function `collatz()` that takes a positive integer x as input and prints the `Collatz` sequence starting at x. A Collatz sequence is obtained by repeatedly applying this rule to the previous number x in the sequence:\n",
    "\n",
    "\\begin{equation*}\n",
    "\\text{x} =\n",
    "\\begin{cases}\n",
    "~ \\frac{x}{2} & \\text{if x is even}\\\\\n",
    "~ 3x + 1 & \\text{if x is odd}\n",
    "\\end{cases}\n",
    "\\end{equation*}\n",
    "    \n",
    "Your function should stop when the sequence gets to number 1. Your implementation must be recursive, without any loops.\n",
    "\n",
    "``` Python\n",
    "collatz(1)\n",
    "1\n",
    "collatz(10)\n",
    "10\n",
    "5\n",
    "16\n",
    "8\n",
    "4\n",
    "2\n",
    "1\n",
    "```"
   ]
  },
  {
   "cell_type": "code",
   "execution_count": 5,
   "id": "exterior-general",
   "metadata": {},
   "outputs": [
    {
     "name": "stdout",
     "output_type": "stream",
     "text": [
      "10\n",
      "5\n",
      "16\n",
      "8\n",
      "4\n",
      "2\n",
      "1\n"
     ]
    }
   ],
   "source": [
    "def collatz(x):\n",
    "    print(int(x))\n",
    "    \n",
    "    if(x == 1):\n",
    "        return(None)\n",
    "    else:\n",
    "        if(x % 2 == 0):\n",
    "            # even\n",
    "            x /= 2\n",
    "            # recursively call the function\n",
    "            collatz(x) \n",
    "        else:\n",
    "            # odd\n",
    "            x = 3*x + 1\n",
    "            # recursively call the function\n",
    "            collatz(x)\n",
    "            \n",
    "collatz(10)            "
   ]
  },
  {
   "cell_type": "markdown",
   "id": "sticky-fight",
   "metadata": {},
   "source": [
    "---\n",
    "\n",
    "## Question 5\n",
    "\n",
    "Write a recursive method `binary()` that takes a non-negative integer n and prints the binary representation of integer n. \n",
    "``` Python\n",
    "binary(0) \n",
    "0\n",
    "\n",
    "binary(1) \n",
    "1\n",
    "\n",
    "binary(3) \n",
    "11\n",
    "\n",
    "binary(9) \n",
    "1001\n",
    "```"
   ]
  },
  {
   "cell_type": "markdown",
   "id": "joined-milan",
   "metadata": {},
   "source": [
    "\\begin{align}\n",
    "\\text{Binary}_{9} = \n",
    "\\begin{bmatrix}\n",
    "\\text{Division} & \\text{Code}\\\\\n",
    "\\frac{9}{2} & 1\\\\\n",
    "\\frac{4}{2} & 0\\\\\n",
    "\\frac{2}{2} & 0\\\\\n",
    "1 & 1\n",
    "\\end{bmatrix}\n",
    "\\end{align}"
   ]
  },
  {
   "cell_type": "code",
   "execution_count": 6,
   "id": "unusual-insurance",
   "metadata": {},
   "outputs": [
    {
     "name": "stdout",
     "output_type": "stream",
     "text": [
      "1001"
     ]
    }
   ],
   "source": [
    "def getbinary(number):\n",
    "   \n",
    "    # Base case\n",
    "    if(number == 0):\n",
    "        return(0)\n",
    "       \n",
    "    # Recursion call\n",
    "    # Pass quotient of division by 2 as new number to the function\n",
    "    getbinary(number // 2)\n",
    "    # print remainder of division by 2\n",
    "    print(number % 2, end = '')\n",
    "\n",
    "    \n",
    "decimal_number = 9\n",
    "getbinary(decimal_number)"
   ]
  },
  {
   "cell_type": "markdown",
   "id": "referenced-subdivision",
   "metadata": {},
   "source": [
    "---\n",
    "\n",
    "## Question 6\n",
    "\n",
    "Implement a class named `HeadingParser` that can be used to parse an HTML document, and retrieve and print all the headings in the document. You should implement your class as a subclass of `HTMLParser`, defined in Standard Library module `html.parser`. When fed a string containing HTML code, your class should print the headings, one per line and in the order in which they appear in the document. Each heading should be indented as follows: an h1 heading should have indentation 0, and h2 heading should have indentation 1, etc. Test your implementation using w3c.html."
   ]
  },
  {
   "cell_type": "code",
   "execution_count": 7,
   "id": "extreme-interpretation",
   "metadata": {},
   "outputs": [],
   "source": [
    "from html.parser import HTMLParser\n",
    "\n",
    "class HeadingParser(HTMLParser):\t\t        # create a subclass of HTMLParser\n",
    "    # Heading is a flag variable\n",
    "    Heading = False\n",
    "    # tag\n",
    "    t = \"\"\n",
    "    def handle_starttag(self, tag, attrs):\t\t# Triggered when a Header tag is found\n",
    "        if tag in [\"h1\", \"h2\", \"h3\"]:\n",
    "            self.Heading = True\n",
    "            self.t = tag\n",
    "            \n",
    "    def handle_endtag(self, tag):\t\t\t\t# to check where the header ends\n",
    "        if tag in [\"h1\", \"h2\", \"h3\"]:\t\t\t\n",
    "            self.Heading = False\n",
    "    \n",
    "    def handle_data(self, data):\t\t\t\t#Triggered when data found (the content of the tag)\n",
    "        if(self.Heading == True):\n",
    "            if(self.t == 'h1'):\n",
    "                # if h1 header, no indentation\n",
    "                print(data)\n",
    "            if(self.t == 'h2'):\n",
    "                # if h2 header, print with single tab appended\n",
    "                print('\\t' + data)\n",
    "            if(self.t == 'h3'):\n",
    "                # if h3 header, 2 tabs\n",
    "                print('\\t'*2 + data)"
   ]
  },
  {
   "cell_type": "code",
   "execution_count": 8,
   "id": "unknown-racing",
   "metadata": {},
   "outputs": [
    {
     "name": "stdout",
     "output_type": "stream",
     "text": [
      "W3C Mission\n",
      "\tPrinciples\n"
     ]
    }
   ],
   "source": [
    "hParser = HeadingParser()\n",
    "file = open(\"W3C.html\", \"r\")\t\t\t#Open the file\n",
    "html = file.read()\t\t\t\t\t\t#Read entirely the file\n",
    "file.close()\t\t\t\t\t\t    #Close the file\n",
    "hParser.feed(html)\t"
   ]
  },
  {
   "cell_type": "markdown",
   "id": "bacterial-genre",
   "metadata": {},
   "source": [
    "---\n",
    "\n",
    "## Question 7 \n",
    "\n",
    "Implement recursive function `webdir()` that takes as input: a URL (as a string) and non-negative integers `depth` and `indent`. Your function should visit every web page reachable from the starting URL web page in `depth` clicks or less, and print each web page's URL. As shown below, indentation, specified by `indent`, should be used to indicate the depth of a URL.\n",
    "\n",
    "webdir('http://reed.cs.depaul.edu/lperkovic/csc242/test1.html', 2, 0) "
   ]
  },
  {
   "cell_type": "code",
   "execution_count": 9,
   "id": "behavioral-kuwait",
   "metadata": {},
   "outputs": [],
   "source": [
    "from urllib.parse import urljoin\n",
    "from urllib.request import urlopen\n",
    "from html.parser import HTMLParser\n",
    "\n",
    "# Lecture Code\n",
    "class Collector(HTMLParser):\n",
    "    'collects hyperlink URLs into a list'\n",
    "\n",
    "    def __init__(self, url):\n",
    "        'initializes parser, the url, and a list'\n",
    "        HTMLParser.__init__(self)\n",
    "        self.url = url\n",
    "        self.links = []\n",
    "\n",
    "    def handle_starttag(self, tag, attrs):\n",
    "        'collects hyperlink URLs in their absolute format'\n",
    "        if tag == 'a':\n",
    "            for attr in attrs:\n",
    "                if attr[0] == 'href':\n",
    "                    # construct absolute URL\n",
    "                    absolute = urljoin(self.url, attr[1])\n",
    "                    if absolute[:4] == 'http': # collect HTTP URLs\n",
    "                        self.links.append(absolute)\n",
    "                        \n",
    "    def getLinks(self):\n",
    "        'returns hyperlinks URLs in their absolute format'\n",
    "        return self.links"
   ]
  },
  {
   "cell_type": "code",
   "execution_count": 10,
   "id": "changed-conversion",
   "metadata": {},
   "outputs": [],
   "source": [
    "# I did not completely understand the question, nor can I access the sample link\n",
    "# I haven't found any use of indent.\n",
    "\n",
    "# This code lists all the websites on the parent site\n",
    "# Then recursively visit all of them while collecting links so on and so forth\n",
    "# No. of recursive steps are controlled by depth\n",
    "# As some websites are absolute paths in themselves we can't say 1 for say google.com found on bbc.com\n",
    "\n",
    "def f(urls):\n",
    "    lst = []\n",
    "    print(urls)\n",
    "    for url in urls:\n",
    "        # some websites contains encodings other than unicode 'utf-8', so we will skip those sites\n",
    "        try:\n",
    "            resource = urlopen(url)\n",
    "            content = resource.read().decode()\n",
    "            collector = Collector(url)\n",
    "            collector.feed(content)\n",
    "            url1 = collector.getLinks()\n",
    "            lst = lst + url1\n",
    "        except:\n",
    "            pass\n",
    "    return(list(set(lst)))\n",
    "    \n",
    "def webdir(urls, depth, indent):\n",
    "    if(depth == 0):\n",
    "        print(urls)\n",
    "        return(0)\n",
    "    return webdir(f(urls), depth-1, indent)"
   ]
  },
  {
   "cell_type": "code",
   "execution_count": 11,
   "id": "monetary-residence",
   "metadata": {},
   "outputs": [
    {
     "name": "stdout",
     "output_type": "stream",
     "text": [
      "['http://www.apple.com']\n",
      "['http://www.apple.com/apple-fitness-plus/', 'http://www.apple.com/tv/', 'http://www.apple.com/retail/geniusbar/', 'http://www.apple.com/racial-equity-justice-initiative/', 'http://www.apple.com/legal/', 'http://www.apple.com/iphone/', 'http://www.apple.com/apple-tv-plus/', 'http://www.apple.com/ipod-touch/', 'http://www.apple.com/today/', 'http://www.apple.com/us/shop/goto/help', 'http://www.apple.com', 'http://www.apple.com/us/shop/goto/shop', 'http://www.apple.com/sitemap/', 'http://www.apple.com/us/shop/goto/giftcards', 'https://one.apple.com/us?itscg=10000&itsct=one-NA-home-tile-apl-avl-102020', 'http://www.apple.com/today/camp/', 'https://appleid.apple.com/us/', 'http://www.apple.com/iphone-12/', 'http://www.apple.com/us/shop/goto/buy_ipad/ipad_air', 'http://www.apple.com/diversity/', 'http://www.apple.com/ipad-air/', 'http://www.apple.com/education/', 'http://www.apple.com/us/shop/goto/eppstore/veteransandmilitary', 'http://www.apple.com/us/shop/goto/payment_plan', 'http://www.apple.com#footnote-4', 'https://tv.apple.com/movie/umc.cmc.5waz3hfo9r1133t8arap8b6nq?itscg=10000&itsct=atv-apl_hp-pmo_wch-billie_world-210204', 'http://www.apple.com/business/', 'http://www.apple.com#ac-gf-directory-column-section-state-accounts', 'http://www.apple.com/apple-books/', 'https://contactretail.apple.com/?c=us&l=en&ap=COM&pg=COM:homepage_ribbon-mobile&ag=FASTPASS', 'http://www.apple.com/jobs/us/', 'http://www.apple.com#ac-gf-directory-column-section-state-education', 'http://www.apple.com#ac-gf-directory-column-section-state-about', 'http://www.apple.com/us/shop/goto/trade_in', 'http://www.apple.com/apple-music/', 'http://www.apple.com/us/shop/goto/buy_accessories', 'http://www.apple.com/newsroom/', 'http://www.apple.com/us/shop/goto/special_deals', 'http://www.apple.com/iphone-12-pro/', 'http://www.apple.com/us/shop/goto/apple_watch', 'http://www.apple.com/accessibility/', 'http://www.apple.com/retail/', 'http://www.apple.com/retail/business/', 'http://www.apple.com/r/store/government/', 'http://www.apple.com/icloud/', 'http://www.apple.com#ac-gf-directory-column-section-state-products', 'http://www.apple.com/promo/', 'http://www.apple.com/supplier-responsibility/', 'http://www.apple.com/apple-card/', 'http://www.apple.com/music/', 'http://www.apple.com/us/search', 'http://www.apple.com#ac-gf-directory-column-section-state-storeservices', 'http://www.apple.com/mac/', 'http://www.apple.com/ipad/', 'http://www.apple.com/us/shop/goto/bag', 'http://www.apple.com/healthcare/health-records/', 'http://www.apple.com/compliance/', 'http://www.apple.com/us/shop/goto/buy_iphone/iphone_12', 'http://www.apple.com/app-store/', 'http://www.apple.com/us/shop/goto/order/list', 'https://fitness.apple.com/subscribe?itscg=10000&itsct=fit-hero-hp_tile-apl-ann-201111', 'http://www.apple.com/us/shop/goto/account', 'http://www.apple.com/us/shop/goto/buy_mac/macbook_air', 'http://www.apple.com/apple-watch-series-6/', 'http://www.apple.com/macbook-air/', 'https://apps.apple.com/us/app/apple-store/id375380948', 'http://www.apple.com/contact/', 'http://www.apple.com/apple-one/', 'http://www.apple.com#ac-gf-directory-column-section-state-business', 'http://www.apple.com#ac-gn-menustate', 'http://www.apple.com/healthcare/apple-watch/', 'http://www.apple.com/choose-country-region/', 'http://www.apple.com/apple-arcade/', 'http://www.apple.com/education/connectED/', 'https://locate.apple.com/', 'http://www.apple.com/privacy/', 'http://www.apple.com/healthcare/', 'http://www.apple.com#ac-gf-directory-column-section-state-services', 'http://www.apple.com/environment/', 'http://www.apple.com/legal/internet-services/terms/site.html', 'https://covid19.apple.com/screening/', 'http://www.apple.com/apple-events/', 'http://www.apple.com#footnote-1', 'http://www.apple.com#footnote-3', 'http://www.apple.com#ac-gf-directory-column-section-state-responsibility', 'http://www.apple.com/us/shop/goto/help/sales_refunds', 'http://www.apple.com/apple-news/', 'http://www.apple.com/education/k12/how-to-buy/', 'http://www.apple.com/leadership/', 'http://www.apple.com#ac-gf-directory-column-section-state-healthcare', 'https://contactretail.apple.com/?c=us&l=en&ap=COM&pg=COM:homepage_ribbon-desktop&ag=FASTPASS', 'https://www.icloud.com', 'http://www.apple.com/us/shop/goto/educationrouting', 'https://investor.apple.com/', 'http://www.apple.com/', 'http://www.apple.com#footnote-2', 'http://www.apple.com/airpods/', 'https://support.apple.com', 'http://www.apple.com/homepod/', 'http://www.apple.com/legal/privacy/', 'http://www.apple.com/watch/', 'http://www.apple.com#ac-gf-directory-column-section-state-government', 'http://www.apple.com/us/shop/goto/buy_iphone/iphone_12_pro']\n"
     ]
    },
    {
     "data": {
      "text/plain": [
       "0"
      ]
     },
     "execution_count": 11,
     "metadata": {},
     "output_type": "execute_result"
    }
   ],
   "source": [
    "# this function works perfectly, using only 1 depth otherwise result is too big to print\n",
    "webdir([\"http://www.apple.com\"], 1, 0)"
   ]
  },
  {
   "cell_type": "markdown",
   "id": "legendary-pixel",
   "metadata": {},
   "source": [
    "---\n",
    "\n",
    "## Question 8\n",
    "\n",
    "Write SQL queries on the below database table that return:"
   ]
  },
  {
   "cell_type": "code",
   "execution_count": 12,
   "id": "critical-renewal",
   "metadata": {},
   "outputs": [],
   "source": [
    "import sqlite3\n",
    "con = sqlite3.connect('web.db')\n",
    "cur = con.cursor()"
   ]
  },
  {
   "cell_type": "code",
   "execution_count": 13,
   "id": "affecting-fortune",
   "metadata": {},
   "outputs": [],
   "source": [
    "# insert data into our Weather table\n",
    "cur.execute(\"CREATE TABLE Weather (City text, Country text, Season text, Temperature float, Rainfall float)\")\n",
    "cur.execute(\"INSERT INTO Weather VALUES ('Mumbai', 'India', 'Winter', 24.8, 5.9)\")\n",
    "cur.execute(\"INSERT INTO Weather VALUES ('Mumbai', 'India', 'Spring', 28.4, 16.2)\")\n",
    "cur.execute(\"INSERT INTO Weather VALUES ('Mumbai', 'India', 'Summer', 27.9, 1549.4)\")\n",
    "cur.execute(\"INSERT INTO Weather VALUES ('Mumbai', 'India', 'Fall', 27.6, 346.0)\")\n",
    "cur.execute(\"INSERT INTO Weather VALUES ('London', 'United Kingdom', 'Winter', 4.2, 207.7)\")\n",
    "cur.execute(\"INSERT INTO Weather VALUES ('London', 'United Kingdom', 'Spring', 8.3, 169.6)\")\n",
    "cur.execute(\"INSERT INTO Weather VALUES ('London', 'United Kingdom', 'Summer', 15.7, 157.0)\")\n",
    "cur.execute(\"INSERT INTO Weather VALUES ('London', 'United Kingdom', 'Fall', 10.4, 218.5)\")\n",
    "cur.execute(\"INSERT INTO Weather VALUES ('Cairo', 'Egypt', 'Winter', 13.6, 16.5)\")\n",
    "cur.execute(\"INSERT INTO Weather VALUES ('Cairo', 'Egypt', 'Spring', 20.7, 6.5)\")\n",
    "cur.execute(\"INSERT INTO Weather VALUES ('Cairo', 'Egypt', 'Summer', 27.7, 0.1)\")\n",
    "cur.execute(\"INSERT INTO Weather VALUES ('Cairo', 'Egypt', 'Fall', 22.2, 4.5)\")\n",
    "\n",
    "con.commit()"
   ]
  },
  {
   "cell_type": "markdown",
   "id": "macro-nepal",
   "metadata": {},
   "source": [
    "### (a) All the temperature data"
   ]
  },
  {
   "cell_type": "code",
   "execution_count": 14,
   "id": "afraid-operation",
   "metadata": {},
   "outputs": [
    {
     "data": {
      "text/plain": [
       "[(24.8,),\n",
       " (28.4,),\n",
       " (27.9,),\n",
       " (27.6,),\n",
       " (4.2,),\n",
       " (8.3,),\n",
       " (15.7,),\n",
       " (10.4,),\n",
       " (13.6,),\n",
       " (20.7,),\n",
       " (27.7,),\n",
       " (22.2,)]"
      ]
     },
     "execution_count": 14,
     "metadata": {},
     "output_type": "execute_result"
    }
   ],
   "source": [
    "cur.execute(\"select Temperature from Weather\")\n",
    "cur.fetchall()"
   ]
  },
  {
   "cell_type": "markdown",
   "id": "manufactured-uruguay",
   "metadata": {},
   "source": [
    "### (b) All the cities, but without repetition."
   ]
  },
  {
   "cell_type": "code",
   "execution_count": 15,
   "id": "listed-documentation",
   "metadata": {},
   "outputs": [
    {
     "data": {
      "text/plain": [
       "[('Mumbai',), ('London',), ('Cairo',)]"
      ]
     },
     "execution_count": 15,
     "metadata": {},
     "output_type": "execute_result"
    }
   ],
   "source": [
    "cur.execute(\"select Distinct(City) from Weather\")\n",
    "cur.fetchall()"
   ]
  },
  {
   "cell_type": "markdown",
   "id": "guilty-civilization",
   "metadata": {},
   "source": [
    "### (c) All the records for India."
   ]
  },
  {
   "cell_type": "code",
   "execution_count": 16,
   "id": "bound-denial",
   "metadata": {},
   "outputs": [
    {
     "data": {
      "text/plain": [
       "[('Mumbai', 'India', 'Winter', 24.8, 5.9),\n",
       " ('Mumbai', 'India', 'Spring', 28.4, 16.2),\n",
       " ('Mumbai', 'India', 'Summer', 27.9, 1549.4),\n",
       " ('Mumbai', 'India', 'Fall', 27.6, 346.0)]"
      ]
     },
     "execution_count": 16,
     "metadata": {},
     "output_type": "execute_result"
    }
   ],
   "source": [
    "cur.execute(\"select * from Weather where Country = 'India'\")\n",
    "cur.fetchall()"
   ]
  },
  {
   "cell_type": "markdown",
   "id": "arctic-reynolds",
   "metadata": {},
   "source": [
    "### (d) All the Fall records."
   ]
  },
  {
   "cell_type": "code",
   "execution_count": 17,
   "id": "molecular-tuesday",
   "metadata": {},
   "outputs": [
    {
     "data": {
      "text/plain": [
       "[('Mumbai', 'India', 'Fall', 27.6, 346.0),\n",
       " ('London', 'United Kingdom', 'Fall', 10.4, 218.5),\n",
       " ('Cairo', 'Egypt', 'Fall', 22.2, 4.5)]"
      ]
     },
     "execution_count": 17,
     "metadata": {},
     "output_type": "execute_result"
    }
   ],
   "source": [
    "cur.execute(\"select * from Weather where Season = 'Fall'\")\n",
    "cur.fetchall()"
   ]
  },
  {
   "cell_type": "markdown",
   "id": "peripheral-national",
   "metadata": {},
   "source": [
    "### (e) The city, country, and season for which the average rainfall is between 200 and 400 millimeters."
   ]
  },
  {
   "cell_type": "code",
   "execution_count": 18,
   "id": "unlimited-medline",
   "metadata": {},
   "outputs": [
    {
     "data": {
      "text/plain": [
       "[('Mumbai', 'India', 'Fall', 346.0),\n",
       " ('London', 'United Kingdom', 'Winter', 207.7),\n",
       " ('London', 'United Kingdom', 'Fall', 218.5)]"
      ]
     },
     "execution_count": 18,
     "metadata": {},
     "output_type": "execute_result"
    }
   ],
   "source": [
    "cur.execute(\"select City, Country, Season, Rainfall from Weather where Rainfall >= 200 and Rainfall <= 400\")\n",
    "cur.fetchall()"
   ]
  },
  {
   "cell_type": "markdown",
   "id": "signed-imagination",
   "metadata": {},
   "source": [
    "### (f) The city and country for which the average Fall temperature is above 20 degrees, in increasing temperature order."
   ]
  },
  {
   "cell_type": "code",
   "execution_count": 19,
   "id": "modern-decrease",
   "metadata": {},
   "outputs": [
    {
     "data": {
      "text/plain": [
       "[('Cairo', 'Egypt', 22.2), ('Mumbai', 'India', 27.6)]"
      ]
     },
     "execution_count": 19,
     "metadata": {},
     "output_type": "execute_result"
    }
   ],
   "source": [
    "cur.execute(\"select City, Country, Temperature from Weather where Season = 'Fall' and Temperature > 20 order by Temperature\")\n",
    "cur.fetchall()"
   ]
  },
  {
   "cell_type": "markdown",
   "id": "ranging-timothy",
   "metadata": {},
   "source": [
    "### (g) The total annual rainfall for Cairo."
   ]
  },
  {
   "cell_type": "code",
   "execution_count": 20,
   "id": "basic-garage",
   "metadata": {},
   "outputs": [
    {
     "data": {
      "text/plain": [
       "[('Cairo', 27.6)]"
      ]
     },
     "execution_count": 20,
     "metadata": {},
     "output_type": "execute_result"
    }
   ],
   "source": [
    "cur.execute(\"select City,sum(Rainfall) from Weather where City = 'Cairo'\")\n",
    "cur.fetchall()"
   ]
  },
  {
   "cell_type": "markdown",
   "id": "empirical-insurance",
   "metadata": {},
   "source": [
    "### (h) The total rainfall for each season."
   ]
  },
  {
   "cell_type": "code",
   "execution_count": 21,
   "id": "together-sierra",
   "metadata": {},
   "outputs": [
    {
     "data": {
      "text/plain": [
       "[('Fall', 569.0), ('Spring', 192.3), ('Summer', 1706.5), ('Winter', 230.1)]"
      ]
     },
     "execution_count": 21,
     "metadata": {},
     "output_type": "execute_result"
    }
   ],
   "source": [
    "cur.execute(\"select Season,Round(sum(Rainfall),1) from Weather group by Season\")\n",
    "cur.fetchall()"
   ]
  },
  {
   "cell_type": "code",
   "execution_count": 22,
   "id": "welsh-academy",
   "metadata": {},
   "outputs": [],
   "source": [
    "con.close()"
   ]
  },
  {
   "cell_type": "markdown",
   "id": "finite-addition",
   "metadata": {},
   "source": [
    "---\n",
    "\n",
    "## Question 9\n",
    "\n",
    "Suppose list words is defined as follows:\n",
    "\n",
    "``` Python\n",
    "words = ['The', 'quick', 'brown', 'fox', 'jumps', 'over', 'the', 'lazy', 'dog']\n",
    "```"
   ]
  },
  {
   "cell_type": "code",
   "execution_count": 23,
   "id": "israeli-denver",
   "metadata": {},
   "outputs": [
    {
     "data": {
      "text/plain": [
       "['The', 'quick', 'brown', 'fox', 'jumps', 'over', 'the', 'lazy', 'dog']"
      ]
     },
     "execution_count": 23,
     "metadata": {},
     "output_type": "execute_result"
    }
   ],
   "source": [
    "words = ['The', 'quick', 'brown', 'fox', 'jumps', 'over', 'the', 'lazy', 'dog']\n",
    "words"
   ]
  },
  {
   "cell_type": "markdown",
   "id": "touched-rachel",
   "metadata": {},
   "source": [
    "### Write list comprehension expressions that use list words and generate the following lists:\n",
    "\n",
    "**(a) ['THE', 'QUICK', 'BROWN', 'FOX', 'JUMPS', 'OVER', 'THE', 'LAZY', 'DOG']**"
   ]
  },
  {
   "cell_type": "code",
   "execution_count": 24,
   "id": "insured-highlight",
   "metadata": {},
   "outputs": [
    {
     "data": {
      "text/plain": [
       "['THE', 'QUICK', 'BROWN', 'FOX', 'JUMPS', 'OVER', 'THE', 'LAZY', 'DOG']"
      ]
     },
     "execution_count": 24,
     "metadata": {},
     "output_type": "execute_result"
    }
   ],
   "source": [
    "[w.upper() for w in words]"
   ]
  },
  {
   "cell_type": "markdown",
   "id": "drawn-burton",
   "metadata": {},
   "source": [
    "**(b) ['the', 'quick', 'brown', 'fox', 'jumps', 'over', 'the', 'lazy', 'dog']** "
   ]
  },
  {
   "cell_type": "code",
   "execution_count": 25,
   "id": "funky-berry",
   "metadata": {},
   "outputs": [
    {
     "data": {
      "text/plain": [
       "['the', 'quick', 'brown', 'fox', 'jumps', 'over', 'the', 'lazy', 'dog']"
      ]
     },
     "execution_count": 25,
     "metadata": {},
     "output_type": "execute_result"
    }
   ],
   "source": [
    "[w.lower() for w in words]"
   ]
  },
  {
   "cell_type": "markdown",
   "id": "cosmetic-relation",
   "metadata": {},
   "source": [
    "**(c) [3, 5, 5, 3, 5, 4, 3, 4, 3] (the list of lengths of words in list words).**"
   ]
  },
  {
   "cell_type": "code",
   "execution_count": 26,
   "id": "subtle-celebrity",
   "metadata": {},
   "outputs": [
    {
     "data": {
      "text/plain": [
       "[3, 5, 5, 3, 5, 4, 3, 4, 3]"
      ]
     },
     "execution_count": 26,
     "metadata": {},
     "output_type": "execute_result"
    }
   ],
   "source": [
    "[len(w) for w in words]"
   ]
  },
  {
   "cell_type": "markdown",
   "id": "helpful-brief",
   "metadata": {},
   "source": [
    "**(d) [['THE', 'the', 3], ['QUICK', 'quick', 5], ['BROWN', 'brown', 5], ['FOX', 'fox', 3], ['JUMPS', 'jumps', 5], ['OVER', 'over', 4], ['THE', 'the', 3], ['LAZY', 'lazy', 4], ['DOG', 'dog', 3]] (the list containing a list for every word of list words, where each list contains the word in uppercase and lowercase and the length of the word.)**  "
   ]
  },
  {
   "cell_type": "code",
   "execution_count": 27,
   "id": "american-cabin",
   "metadata": {},
   "outputs": [
    {
     "data": {
      "text/plain": [
       "[['THE', 'the', 3],\n",
       " ['QUICK', 'quick', 5],\n",
       " ['BROWN', 'brown', 5],\n",
       " ['FOX', 'fox', 3],\n",
       " ['JUMPS', 'jumps', 5],\n",
       " ['OVER', 'over', 4],\n",
       " ['THE', 'the', 3],\n",
       " ['LAZY', 'lazy', 4],\n",
       " ['DOG', 'dog', 3]]"
      ]
     },
     "execution_count": 27,
     "metadata": {},
     "output_type": "execute_result"
    }
   ],
   "source": [
    "[[w.upper(), w.lower(), len(w)] for w in words]"
   ]
  },
  {
   "cell_type": "markdown",
   "id": "variable-circus",
   "metadata": {},
   "source": [
    "**(e) ['The', 'quick', 'brown', 'fox', 'jumps', 'over', 'the', 'lazy', 'dog'] (the list of words in list words containing 4 or more characters.)**"
   ]
  },
  {
   "cell_type": "code",
   "execution_count": 28,
   "id": "configured-lawrence",
   "metadata": {},
   "outputs": [
    {
     "data": {
      "text/plain": [
       "['quick', 'brown', 'jumps', 'over', 'lazy']"
      ]
     },
     "execution_count": 28,
     "metadata": {},
     "output_type": "execute_result"
    }
   ],
   "source": [
    "[w for w in words if len(w) >= 4]"
   ]
  }
 ],
 "metadata": {
  "kernelspec": {
   "display_name": "Python 3",
   "language": "python",
   "name": "python3"
  },
  "language_info": {
   "codemirror_mode": {
    "name": "ipython",
    "version": 3
   },
   "file_extension": ".py",
   "mimetype": "text/x-python",
   "name": "python",
   "nbconvert_exporter": "python",
   "pygments_lexer": "ipython3",
   "version": "3.8.5"
  }
 },
 "nbformat": 4,
 "nbformat_minor": 5
}
